{
 "cells": [
  {
   "cell_type": "markdown",
   "metadata": {},
   "source": [
    "# Data Preprocessing\n",
    "\n",
    "In this file, we will :\n",
    "\n",
    "- Load the three datasets (`train`, `test`, `evaluate`)\n",
    "- Process them :\n",
    "  - Resize and format the images\n",
    "  - Apply the masks on the images\n",
    "- Save the resulting numpy arrays in npz files\n"
   ]
  },
  {
   "cell_type": "code",
   "execution_count": 1,
   "metadata": {},
   "outputs": [],
   "source": [
    "from datasets import load_dataset\n",
    "\n",
    "train_dataset = load_dataset(\"Az-r-ow/chest_xray\", split=\"train\")\n",
    "test_dataset = load_dataset(\"Az-r-ow/chest_xray\", split=\"test\")\n",
    "eval_dataset = load_dataset(\"Az-r-ow/chest_xray\", split=\"validation\")"
   ]
  },
  {
   "cell_type": "code",
   "execution_count": 2,
   "metadata": {},
   "outputs": [],
   "source": [
    "from utils.helpers import format_dataset\n",
    "\n",
    "train_labels = train_dataset.features[\"label\"].names\n",
    "test_labels = test_dataset.features[\"label\"].names\n",
    "eval_labels = eval_dataset.features[\"label\"].names"
   ]
  }
 ],
 "metadata": {
  "kernelspec": {
   "display_name": "venv",
   "language": "python",
   "name": "python3"
  },
  "language_info": {
   "codemirror_mode": {
    "name": "ipython",
    "version": 3
   },
   "file_extension": ".py",
   "mimetype": "text/x-python",
   "name": "python",
   "nbconvert_exporter": "python",
   "pygments_lexer": "ipython3",
   "version": "3.12.2"
  }
 },
 "nbformat": 4,
 "nbformat_minor": 2
}
